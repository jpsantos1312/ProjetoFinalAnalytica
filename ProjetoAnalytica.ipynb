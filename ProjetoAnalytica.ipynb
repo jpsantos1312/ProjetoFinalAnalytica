{
  "nbformat": 4,
  "nbformat_minor": 0,
  "metadata": {
    "colab": {
      "provenance": []
    },
    "kernelspec": {
      "name": "python3",
      "display_name": "Python 3"
    },
    "language_info": {
      "name": "python"
    }
  },
  "cells": [
    {
      "cell_type": "code",
      "execution_count": null,
      "metadata": {
        "colab": {
          "base_uri": "https://localhost:8080/"
        },
        "id": "_61_Q-IOLhBy",
        "outputId": "c782370c-c40e-4013-af7e-89f7652a0438"
      },
      "outputs": [
        {
          "output_type": "stream",
          "name": "stdout",
          "text": [
            "Using Colab cache for faster access to the 'netflix-prize-data' dataset.\n",
            "Path to dataset files: /kaggle/input/netflix-prize-data\n"
          ]
        }
      ],
      "source": [
        "import kagglehub\n",
        "\n",
        "# Download latest version\n",
        "path = kagglehub.dataset_download(\"netflix-inc/netflix-prize-data\")\n",
        "\n",
        "print(\"Path to dataset files:\", path)"
      ]
    },
    {
      "cell_type": "code",
      "source": [
        "import pandas as pd\n",
        "import matplotlib.pyplot as plt\n",
        "import numpy as np\n",
        "import seaborn as sns\n",
        "\n",
        "from pathlib import Path\n",
        "pasta = Path (path)\n",
        "arquivos = list(pasta.iterdir())\n"
      ],
      "metadata": {
        "id": "PBMUXNejMDCm"
      },
      "execution_count": null,
      "outputs": []
    },
    {
      "cell_type": "code",
      "source": [
        "arquivos"
      ],
      "metadata": {
        "colab": {
          "base_uri": "https://localhost:8080/"
        },
        "id": "yyyeu8vpqj_o",
        "outputId": "0effcab7-db39-4f84-de86-50a6c3eea4e7"
      },
      "execution_count": null,
      "outputs": [
        {
          "output_type": "execute_result",
          "data": {
            "text/plain": [
              "[PosixPath('/kaggle/input/netflix-prize-data/combined_data_3.txt'),\n",
              " PosixPath('/kaggle/input/netflix-prize-data/movie_titles.csv'),\n",
              " PosixPath('/kaggle/input/netflix-prize-data/combined_data_4.txt'),\n",
              " PosixPath('/kaggle/input/netflix-prize-data/combined_data_1.txt'),\n",
              " PosixPath('/kaggle/input/netflix-prize-data/README'),\n",
              " PosixPath('/kaggle/input/netflix-prize-data/probe.txt'),\n",
              " PosixPath('/kaggle/input/netflix-prize-data/combined_data_2.txt'),\n",
              " PosixPath('/kaggle/input/netflix-prize-data/qualifying.txt')]"
            ]
          },
          "metadata": {},
          "execution_count": 3
        }
      ]
    },
    {
      "cell_type": "code",
      "source": [
        "df1 = pd.read_csv('/root/.cache/kagglehub/datasets/netflix-inc/netflix-prize-data/versions/2/combined_data_1.txt', header = None, names = ['ID_Usuario', 'Avaliacao'], usecols = [0,1])\n",
        "\n",
        "\n",
        "\n",
        "print('Dataset 1 shape: {}'.format(df1.shape))\n",
        "print('-Dataset examples-')\n",
        "print(df1.iloc[::5000000, :])"
      ],
      "metadata": {
        "colab": {
          "base_uri": "https://localhost:8080/"
        },
        "id": "zsWblYcnN0QW",
        "outputId": "b5fe953a-5de6-4ee2-9105-8cb6f9821dcd"
      },
      "execution_count": null,
      "outputs": [
        {
          "output_type": "stream",
          "name": "stdout",
          "text": [
            "Dataset 1 shape: (24058263, 2)\n",
            "-Dataset examples-\n",
            "         ID_Usuario  Avaliacao\n",
            "0                1:        NaN\n",
            "5000000     2560324        4.0\n",
            "10000000    2271935        2.0\n",
            "15000000    1921803        2.0\n",
            "20000000    1933327        3.0\n"
          ]
        }
      ]
    },
    {
      "cell_type": "code",
      "source": [
        "df1.info()"
      ],
      "metadata": {
        "colab": {
          "base_uri": "https://localhost:8080/"
        },
        "id": "MPFhZxDBNNTx",
        "outputId": "d98e9adf-b61c-49db-9273-192ade48eded"
      },
      "execution_count": null,
      "outputs": [
        {
          "output_type": "stream",
          "name": "stdout",
          "text": [
            "<class 'pandas.core.frame.DataFrame'>\n",
            "RangeIndex: 24058263 entries, 0 to 24058262\n",
            "Data columns (total 2 columns):\n",
            " #   Column      Dtype  \n",
            "---  ------      -----  \n",
            " 0   ID_Usuario  object \n",
            " 1   Avaliacao   float64\n",
            "dtypes: float64(1), object(1)\n",
            "memory usage: 367.1+ MB\n"
          ]
        }
      ]
    },
    {
      "cell_type": "code",
      "source": [
        "df2 = pd.read_csv('/root/.cache/kagglehub/datasets/netflix-inc/netflix-prize-data/versions/2/combined_data_2.txt', header = None, names = ['ID_Usuario', 'Avaliacao'], usecols = [0,1])\n",
        "#df3 = pd.read_csv('/root/.cache/kagglehub/datasets/netflix-inc/netflix-prize-data/versions/2/combined_data_3.txt', header = None, names = ['ID_Usuario', 'Avaliacao'], usecols = [0,1])\n",
        "#df4 = pd.read_csv('/root/.cache/kagglehub/datasets/netflix-inc/netflix-prize-data/versions/2/combined_data_4.txt', header = None, names = ['ID_Usuario', 'Avaliacao'], usecols = [0,1])\n"
      ],
      "metadata": {
        "id": "6hbLrVWOUyOY"
      },
      "execution_count": null,
      "outputs": []
    },
    {
      "cell_type": "code",
      "source": [
        "#df = pd.concat([df1, df2, df3, df4])\n",
        "df = pd.concat([df1, df2])"
      ],
      "metadata": {
        "id": "QBDFzNijOLtG"
      },
      "execution_count": null,
      "outputs": []
    },
    {
      "cell_type": "code",
      "source": [
        "df.info()"
      ],
      "metadata": {
        "colab": {
          "base_uri": "https://localhost:8080/"
        },
        "id": "UUEh8kqIVQK1",
        "outputId": "bbb85e4a-ce96-4d02-87df-e03738cb2769"
      },
      "execution_count": null,
      "outputs": [
        {
          "output_type": "stream",
          "name": "stdout",
          "text": [
            "<class 'pandas.core.frame.DataFrame'>\n",
            "Index: 51040565 entries, 0 to 26982301\n",
            "Data columns (total 2 columns):\n",
            " #   Column      Dtype  \n",
            "---  ------      -----  \n",
            " 0   ID_Usuario  object \n",
            " 1   Avaliacao   float64\n",
            "dtypes: float64(1), object(1)\n",
            "memory usage: 1.1+ GB\n"
          ]
        }
      ]
    },
    {
      "cell_type": "code",
      "source": [
        "df.index = np.arange(0,len(df))"
      ],
      "metadata": {
        "id": "rS5ZOHKuWA_D"
      },
      "execution_count": null,
      "outputs": []
    },
    {
      "cell_type": "code",
      "source": [
        "num_filmes = df.isnull().sum()[1]\n",
        "num_usuarios = df['ID_Usuario'].nunique() - num_filmes\n",
        "num_avaliacoes = len(df) - num_filmes"
      ],
      "metadata": {
        "colab": {
          "base_uri": "https://localhost:8080/"
        },
        "id": "63rjHthbYiVo",
        "outputId": "f0dfe46c-f0e2-4026-846d-685eb78e1d6e"
      },
      "execution_count": null,
      "outputs": [
        {
          "output_type": "stream",
          "name": "stderr",
          "text": [
            "/tmp/ipython-input-3363894570.py:1: FutureWarning: Series.__getitem__ treating keys as positions is deprecated. In a future version, integer keys will always be treated as labels (consistent with DataFrame behavior). To access a value by position, use `ser.iloc[pos]`\n",
            "  num_filmes = df.isnull().sum()[1]\n"
          ]
        }
      ]
    },
    {
      "cell_type": "markdown",
      "source": [
        "9210 filmes"
      ],
      "metadata": {
        "id": "dxjaeW6dZKIF"
      }
    },
    {
      "cell_type": "code",
      "source": [
        "print('Numero de filmes: {}'.format(num_filmes))\n",
        "print('Numero de usuarios: {}'.format(num_usuarios))\n",
        "print('Numero de avaliacoes: {}'.format(num_avaliacoes))"
      ],
      "metadata": {
        "colab": {
          "base_uri": "https://localhost:8080/"
        },
        "id": "4b-B8S_RY5oa",
        "outputId": "9ef24849-f625-4f64-cba4-0df476601096"
      },
      "execution_count": null,
      "outputs": [
        {
          "output_type": "stream",
          "name": "stdout",
          "text": [
            "Numero de filmes: 9210\n",
            "Numero de usuarios: 478018\n",
            "Numero de avaliacoes: 51031355\n"
          ]
        }
      ]
    },
    {
      "cell_type": "code",
      "source": [
        "# Criar uma coluna \"filme_id\" que aumenta a cada NaN encontrado\n",
        "df['ID_Filme'] = df['Avaliacao'].isna().cumsum()\n",
        "\n",
        "# Remover as linhas que são NaN (caso não façam parte das avaliações)\n",
        "df = df.dropna(subset=['Avaliacao']).reset_index(drop=True)\n"
      ],
      "metadata": {
        "id": "AoivrCLNluRN"
      },
      "execution_count": null,
      "outputs": []
    },
    {
      "cell_type": "code",
      "source": [
        "df['ID_Filme'] = df['ID_Filme'].astype(str)\n",
        "df['ID_Usuario'] = df['ID_Usuario'].astype(str)\n",
        "print(df.iloc[::5000000, :])"
      ],
      "metadata": {
        "colab": {
          "base_uri": "https://localhost:8080/"
        },
        "id": "qtH2VC4lhAH2",
        "outputId": "6971fc31-2d7b-47fa-8bc0-4f55986c2843"
      },
      "execution_count": null,
      "outputs": [
        {
          "output_type": "stream",
          "name": "stdout",
          "text": [
            "         ID_Usuario  Avaliacao ID_Filme\n",
            "0           1488844        3.0        1\n",
            "5000000      501954        2.0      996\n",
            "10000000     404654        5.0     1962\n",
            "15000000     886608        2.0     2876\n",
            "20000000    1193835        2.0     3825\n",
            "25000000    1899206        3.0     4661\n",
            "30000000     154804        4.0     5496\n",
            "35000000    2078749        5.0     6274\n",
            "40000000     450763        5.0     7057\n",
            "45000000     102092        3.0     7991\n",
            "50000000     220298        5.0     9023\n"
          ]
        }
      ]
    },
    {
      "cell_type": "code",
      "source": [
        "df.info()"
      ],
      "metadata": {
        "colab": {
          "base_uri": "https://localhost:8080/"
        },
        "id": "YBzdOEz3nQB-",
        "outputId": "246ec6e3-b4be-4738-ff5c-0b88a5bc4ddb"
      },
      "execution_count": null,
      "outputs": [
        {
          "output_type": "stream",
          "name": "stdout",
          "text": [
            "<class 'pandas.core.frame.DataFrame'>\n",
            "RangeIndex: 51031355 entries, 0 to 51031354\n",
            "Data columns (total 3 columns):\n",
            " #   Column      Dtype  \n",
            "---  ------      -----  \n",
            " 0   ID_Usuario  object \n",
            " 1   Avaliacao   float64\n",
            " 2   ID_Filme    object \n",
            "dtypes: float64(1), object(2)\n",
            "memory usage: 1.1+ GB\n"
          ]
        }
      ]
    },
    {
      "cell_type": "code",
      "source": [
        "df['ID_Filme'].nunique()"
      ],
      "metadata": {
        "colab": {
          "base_uri": "https://localhost:8080/"
        },
        "id": "8V1UfHG9jnjc",
        "outputId": "759d12ad-5039-4ba9-f634-cb0ad4a6c037"
      },
      "execution_count": null,
      "outputs": [
        {
          "output_type": "execute_result",
          "data": {
            "text/plain": [
              "9210"
            ]
          },
          "metadata": {},
          "execution_count": 15
        }
      ]
    },
    {
      "cell_type": "code",
      "source": [],
      "metadata": {
        "id": "5l0DClYtjrxs"
      },
      "execution_count": null,
      "outputs": []
    }
  ]
}